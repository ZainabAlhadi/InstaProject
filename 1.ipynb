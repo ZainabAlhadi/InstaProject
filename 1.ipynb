{
  "cells": [
    {
      "cell_type": "markdown",
      "metadata": {
        "id": "view-in-github",
        "colab_type": "text"
      },
      "source": [
        "<a href=\"https://colab.research.google.com/github/ZainabAlhadi/InstaProject/blob/main/1.ipynb\" target=\"_parent\"><img src=\"https://colab.research.google.com/assets/colab-badge.svg\" alt=\"Open In Colab\"/></a>"
      ]
    },
    {
      "cell_type": "code",
      "execution_count": null,
      "metadata": {
        "id": "t_14u2y-qgZT"
      },
      "outputs": [],
      "source": [
        "!pip install -q streamlit"
      ]
    },
    {
      "cell_type": "code",
      "source": [
        "!pip install streamlit-option-menu"
      ],
      "metadata": {
        "id": "jDz7VNsfDvXC"
      },
      "execution_count": null,
      "outputs": []
    },
    {
      "cell_type": "code",
      "execution_count": null,
      "metadata": {
        "id": "PhP_esBz8oii"
      },
      "outputs": [],
      "source": [
        "!pip install -U streamlit\n"
      ]
    },
    {
      "cell_type": "code",
      "execution_count": null,
      "metadata": {
        "id": "zYxD_RVzuWOT"
      },
      "outputs": [],
      "source": [
        "!pip uninstall protobuf"
      ]
    },
    {
      "cell_type": "code",
      "execution_count": null,
      "metadata": {
        "id": "3Uttj9O_2-r5"
      },
      "outputs": [],
      "source": [
        "!pip install protobuf==4.21"
      ]
    },
    {
      "cell_type": "code",
      "execution_count": null,
      "metadata": {
        "id": "WLJ0VCOI1EiZ"
      },
      "outputs": [],
      "source": [
        "%%writefile HomePage.py\n",
        "import streamlit as st\n",
        "import pandas as pd\n",
        "import altair as alt\n",
        "import seaborn as sns\n",
        "\n",
        "st.sidebar.markdown(\"# Home Page\")\n",
        "\n",
        "insta = pd.read_csv('uppdatedInstagram.csv')\n",
        "st.title('instagram influencers Application')\n",
        "st.header(\"About the Dataset:...\")\n",
        "st.markdown(\"Instagram is a photo and video sharing social networking service founded in 2010\") \n",
        "st.markdown(\"by Kevin Systrom and Mike Krieger, and later acquired by American company Facebook Inc.\") \n",
        "st.markdown(\"The app allows users to upload media that can be edited with filters and organized by \") \n",
        "st.markdown(\"hashtags and geographical tagging. Posts can be shared publicly or with preapproved followers.\")  \n",
        "st.markdown(\"Users can browse other users' content by tag and location, view trending content, like photos, \") \n",
        "st.markdown(\"and follow other users to add their content to a personal feed.\")\n",
        "st.markdown(\"in addition, in this pages you will find finalization and the findings of a dataset comprises of 200 top influencers profile data of instagram\")\n",
        "    \n",
        "\n",
        "st.header(\"Findings from instagram influencers dataset:...\")\n",
        "nof = st.select_slider(\n",
        "    'Select a number to view:',\n",
        "    options=['1', '2', '3', '4', '5'])\n",
        "st.write('Findings NO:', nof)\n",
        "\n",
        "if (nof == '1'):\n",
        "  st.markdown(\"the candlestick chart below shows The number of likes for each Main topic \")\n",
        "  st.markdown(\"clearly shows that the sports topic has the largest number of likes, it was about more than \")\n",
        "  st.markdown(\"20.000.000,000 likes, which means that sport is one of the people's most important concerns.\") \n",
        "  st.markdown(\"In contrast, the news had the lowest number of likes, it was much less than 5.000.000.000..\")\n",
        "\n",
        "elif (nof == '2'):\n",
        "  st.markdown(\"The simple bar chart below shows the number of followers for each main topic\")\n",
        "  st.markdown(\"was clearly the most for a sports topic, and the number of \")\n",
        "  st.markdown(\"followers was about 2,000,000,000. In contrast, the people & blogs had the fewest followers,\") \n",
        "  st.markdown(\"which shows that most people are interested in sports and don't tend to the people & blogs.\")\n",
        "\n",
        "elif (nof == '3'):\n",
        "  st.markdown(\"The line chart below shows The number of likes of each post, it is clear that comedy has\")\n",
        "  st.markdown(\"the number of posts around 100,000, So comedy has the highest number of posts, \")\n",
        "  st.markdown(\"but the number of likes is it is much less than 20,000,000,000 compared to sports\") \n",
        "  st.markdown(\"a small number of posts are less than 20,000, but the number of likes was more than 20,000,000.\")\n",
        "\n",
        "elif (nof == '4'):\n",
        "  st.markdown(\"The point chart below shows the Engagement rate and the number of followers,\")\n",
        "  st.markdown(\"Obviously, it's a film and animation has a large number of followers about 500,000,000 but the\") \n",
        "  st.markdown(\"Engagement rate was about 0.0, in contrast, the gaming topic has a few followers but the Engagement\") \n",
        "  st.markdown(\"rate had the highest of all, was about 0.3 and this means that he's The most inclined people Engagement\") \n",
        "  st.markdown(\"in gaming topics.\")\n",
        "\n",
        "else:\n",
        "  st.markdown(\"The pie chart below shows the number of posts and the main topic. The comedy topic received more  \")\n",
        "  st.markdown(\"comedy topic had the most number of posts, and in contrast, the news and politics  topics had the\") \n",
        "  st.markdown(\"lowest number of posts\")"
      ]
    },
    {
      "cell_type": "code",
      "execution_count": null,
      "metadata": {
        "colab": {
          "base_uri": "https://localhost:8080/"
        },
        "id": "RnzNukcVquRf",
        "outputId": "094e706b-7e0d-48fa-ca43-8aa1c669953a"
      },
      "outputs": [
        {
          "metadata": {
            "tags": null
          },
          "name": "stdout",
          "output_type": "stream",
          "text": [
            "\u001b[K\u001b[?25hnpx: installed 22 in 2.775s\n",
            "your url is: https://crazy-bottles-read-34-86-81-182.loca.lt\n"
          ]
        }
      ],
      "source": [
        "!streamlit run HomePage.py &>/dev/null&\n",
        "!npx localtunnel --port 8501"
      ]
    },
    {
      "cell_type": "code",
      "execution_count": null,
      "metadata": {
        "id": "OLU-tJP6ckuc"
      },
      "outputs": [],
      "source": [
        "!pip install streamlit==1.14.0"
      ]
    },
    {
      "cell_type": "code",
      "execution_count": null,
      "metadata": {
        "id": "6LPWmBQBrB2r"
      },
      "outputs": [],
      "source": [
        "%%writefile pages/page1.py\n",
        "import streamlit as st\n",
        "import matplotlib.pyplot as plt\n",
        "import pandas as pd\n",
        "import altair as alt\n",
        "import seaborn as sns\n",
        "\n",
        "st.sidebar.markdown(\"# Page1\")\n",
        "\n",
        "insta = pd.read_csv('uppdatedInstagram.csv')\n",
        "st.title('instagram influencers Application')\n",
        "st.header(\"instagram influencers Application Charts\")\n",
        "\n",
        "#with st.sidebar:\n",
        "  #  selected = option_menu(\"Instagram Web App\", [\"HomePage\",\"page1\", 'page2'], \n",
        " #       icons=['house'], menu_icon=\"cast\", default_index=1)\n",
        "#    selected\n",
        "\n",
        "plot_type=st.radio(\"select from the relations\",['Candlestick chart','pie chart','Simple Bar Chart','line Chart','point Chart'])\n",
        "\n",
        "if plot_type == 'Candlestick chart':\n",
        "#  t1 = st.header(\"The relation between Main topic and Likes\")\n",
        "#  p1 = insta.groupby('Main topic')['Likes'].mean().plot(kind='pie',autopct=\"%1.2f%%\") \n",
        "  t1 = st.text(\"The relation between Main topic and Likes\")\n",
        "  p1 = alt.Chart(insta).mark_rule().encode(\n",
        "  x = 'Main topic',\n",
        "  y = 'Likes',\n",
        "  color = 'Main topic').interactive()\n",
        "\n",
        "elif plot_type == 'pie chart':\n",
        "  t1 = st.header(\"The relation between Main topic and Posts\")\n",
        "  p1 = alt.Chart(insta).mark_arc().encode(\n",
        "    theta=alt.Theta(field=\"Posts\", type=\"quantitative\"),\n",
        "    color=alt.Color(field=\"Main topic\", type=\"nominal\"))\n",
        "\n",
        "\n",
        "elif plot_type == 'Simple Bar Chart':\n",
        "  t1 = st.text(\"The relation between Main topic and Followers\")\n",
        "  p1 = alt.Chart(insta).mark_bar().encode(\n",
        "  y = 'Main topic',\n",
        "  x = 'Followers',\n",
        "  color = 'Main topic')\n",
        "\n",
        "elif plot_type == 'line Chart':\n",
        "  t1 = st.text(\"The relation between Posts and Likes\")\n",
        "  p1 = alt.Chart(insta).mark_line().encode(\n",
        "  y = 'Posts',\n",
        "  x = 'Likes',\n",
        "  color = 'Main topic').interactive()\n",
        "\n",
        "else:\n",
        "  t1 = st.text(\"The relation between Engagement Rate and Followers\")\n",
        "  p1 = alt.Chart(insta).mark_point().encode(\n",
        "  x = 'Engagement Rate',\n",
        "  y = 'Followers',\n",
        "  color = 'Main topic').interactive()\n",
        "\n",
        "st.echo(t1)\n",
        "st.altair_chart(p1) \n",
        "\n",
        "st.markdown(\"------------------------------------------------------------\")\n",
        "\n",
        "option = st.selectbox(\n",
        "    'Choose one of the options to be compared with Likes',\n",
        "    ('Followers', 'Engagement Rate'))\n",
        "\n",
        "st.write('You selected:', option)\n",
        "\n",
        "if(option == \"Followers\"):\n",
        "  A1 = alt.Chart(insta).mark_bar().encode(\n",
        "  y = 'Likes',\n",
        "  x = 'Followers',\n",
        "  color = 'Main topic')\n",
        "else:\n",
        "  A1 = alt.Chart(insta).mark_bar().encode(\n",
        "  y = 'Likes',\n",
        "  x = 'Engagement Rate',\n",
        "  color = 'Main topic')\n",
        "\n",
        "st.altair_chart(A1)\n",
        "\n"
      ]
    },
    {
      "cell_type": "code",
      "execution_count": null,
      "metadata": {
        "id": "mRvGBpZYI_uf"
      },
      "outputs": [],
      "source": [
        "%%writefile pages/page2.py\n",
        "import streamlit as st\n",
        "import matplotlib.pyplot as plt\n",
        "import pandas as pd\n",
        "import altair as alt\n",
        "import seaborn as sns\n",
        "\n",
        "st.sidebar.markdown(\"# Page2\")\n",
        "\n",
        "insta = pd.read_csv('uppdatedInstagram.csv')\n",
        "st.title('instagram influencers Application')\n",
        "st.header(\"instagram influencers Application Charts\")\n",
        "\n",
        "st.markdown(\"------------------------------------------------------------\")\n",
        "st.markdown(\"---The Relation between Main topic and Engagement Rate with Likes---\")\n",
        "color = st.color_picker('Pick A Color', '#00f900')\n",
        "st.write('The current color is', color)\n",
        "\n",
        "S1 = alt.Chart(insta).mark_circle(color=color).encode(\n",
        "x = 'Main topic',\n",
        "y = 'Engagement Rate' ,\n",
        "    size='Main topic',\n",
        "tooltip=['Likes','Engagement Rate']).interactive()\n",
        "\n",
        "st.altair_chart(S1)\n",
        "\n",
        "st.markdown(\"------------------------------------------------------------\")\n",
        "\n",
        "@st.cache\n",
        "def convert_df(df):\n",
        "    # IMPORTANT: Cache the conversion to prevent computation on every rerun\n",
        "    return df.to_csv().encode('utf-8')\n",
        "\n",
        "csv = convert_df(insta)\n",
        "\n",
        "st.download_button(\n",
        "    label=\"Download tha dataset as CSV\",\n",
        "    data=csv,\n",
        "    file_name='instagram.csv',\n",
        "    mime='text/csv',\n",
        ")\n"
      ]
    },
    {
      "cell_type": "code",
      "execution_count": null,
      "metadata": {
        "id": "87JUxAbu61iM"
      },
      "outputs": [],
      "source": [
        "%%writefile pages/page3.py\n",
        "import matplotlib.pyplot as plt\n",
        "import numpy as np\n",
        "from mpl_toolkits.mplot3d import axes3d\n",
        "import pandas as pd\n",
        "import streamlit as st\n",
        "\n",
        "st.sidebar.markdown(\"# Page3\")\n",
        "\n",
        "insta = pd.read_csv('uppdatedInstagram.csv')\n",
        "fig = plt.figure()\n",
        "ax = fig.add_subplot(111, projection = '3d')\n",
        "\n",
        "b = insta['Likes Avg.']\n",
        "\n",
        "ax.scatter(insta['Followers'], insta['Likes Avg.'], insta['Engagement Rate'] , c='b', marker='o', label='blue')\n",
        "ax.set_xlabel('Followers')\n",
        "ax.set_ylabel('Likes Avg.')\n",
        "ax.set_zlabel('Engagement Rate')\n",
        "plt.title(\"3D Scatter Plot Example\")\n",
        "plt.legend()\n",
        "plt.tight_layout()\n",
        "plt.show()\n",
        "st.pyplot(fig)\n"
      ]
    },
    {
      "cell_type": "code",
      "execution_count": null,
      "metadata": {
        "id": "eYxmH6AY7tQ8"
      },
      "outputs": [],
      "source": [
        "%%writefile pages/page4.py\n",
        "import streamlit as st\n",
        "import matplotlib.pyplot as plt\n",
        "import numpy as np\n",
        "import pandas as pd\n",
        "\n",
        "st.sidebar.markdown(\"# Page4\")\n",
        "insta = pd.read_csv('uppdatedInstagram.csv')\n",
        "\n",
        "sp = insta[insta['Main topic']== ('Sports')]\n",
        "ordered_df = sp.sort_values(by='Likes Avg.')\n",
        "my_range=range(1,len(sp.index)+1)\n",
        "\n",
        "# Create a color if the group is \"B\"\n",
        "my_color=np.where(ordered_df ['Country']=='US', 'pink','blue')\n",
        "my_size=np.where(ordered_df ['Country']=='US', 70, 30)\n",
        "# The horizontal plot is made using the hline() function\n",
        "plt.hlines(y=my_range, xmin=0, xmax=ordered_df['Likes Avg.'], color=my_color, alpha=0.4)\n",
        "plt.scatter(ordered_df['Likes Avg.'], my_range, color=my_color, s=my_size, alpha=1)\n",
        "\n",
        "# Add title and axis names\n",
        "plt.yticks(my_range, ordered_df['Country'])\n",
        "plt.title(\"What about the  US Country ?\", loc='Center')\n",
        "plt.xlabel('Likes Avg')\n",
        "plt.ylabel('Country')\n",
        "\n",
        "# show the graph\n",
        "plt.show()\n",
        "st.set_option('deprecation.showPyplotGlobalUse', False)\n",
        "st.pyplot()\n"
      ]
    },
    {
      "cell_type": "markdown",
      "source": [
        "github username: ZainabAlhadi https://github.com/ZainabAlhadi/InstaProject"
      ],
      "metadata": {
        "id": "dQt_K9tmCTaX"
      }
    }
  ],
  "metadata": {
    "colab": {
      "provenance": [],
      "authorship_tag": "ABX9TyM/1dzyhxFPbBi7wuW08Epw",
      "include_colab_link": true
    },
    "kernelspec": {
      "display_name": "Python 3",
      "name": "python3"
    },
    "language_info": {
      "name": "python"
    }
  },
  "nbformat": 4,
  "nbformat_minor": 0
}